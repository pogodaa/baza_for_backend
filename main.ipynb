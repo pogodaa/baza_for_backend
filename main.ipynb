{
 "cells": [
  {
   "cell_type": "markdown",
   "id": "e3e0235a",
   "metadata": {},
   "source": [
    "## Основные знания для Python backend-разработчика"
   ]
  },
  {
   "cell_type": "markdown",
   "id": "adef1138",
   "metadata": {},
   "source": [
    "### 1. Основы Python"
   ]
  },
  {
   "cell_type": "markdown",
   "id": "f0f79a13",
   "metadata": {},
   "source": [
    "#### 1.1. Синтаксис Python"
   ]
  },
  {
   "cell_type": "markdown",
   "id": "d76b1012",
   "metadata": {},
   "source": [
    "##### Циклы:"
   ]
  },
  {
   "cell_type": "code",
   "execution_count": null,
   "id": "e3fd81b5",
   "metadata": {},
   "outputs": [
    {
     "name": "stdout",
     "output_type": "stream",
     "text": [
      "0\n",
      "1\n",
      "2\n",
      "3\n",
      "4\n"
     ]
    }
   ],
   "source": [
    "# for -- перебор элементов (списки, строки, словари, генераторы)\n",
    "\n",
    "n = 5\n",
    "\n",
    "for i in range(n):\n",
    "      print(i)\n",
    "\n",
    "# структура range -- range(n) → 0 до n-1 || range(start, stop) → start до stop-1 || range(start, stop, step) → с шагом step"
   ]
  },
  {
   "cell_type": "code",
   "execution_count": 43,
   "id": "267c6172",
   "metadata": {},
   "outputs": [
    {
     "name": "stdout",
     "output_type": "stream",
     "text": [
      "0\n",
      "1\n",
      "2\n",
      "3\n",
      "4\n"
     ]
    }
   ],
   "source": [
    "# while -- выполняется до тех пор пока условие истино\n",
    "\n",
    "x = 0\n",
    "\n",
    "while x < 5:\n",
    "      print(x)\n",
    "      x += 1"
   ]
  },
  {
   "cell_type": "markdown",
   "id": "1707d7e1",
   "metadata": {},
   "source": [
    "break, continue, pass, else в циклах"
   ]
  },
  {
   "cell_type": "code",
   "execution_count": null,
   "id": "fe0dbfbe",
   "metadata": {},
   "outputs": [
    {
     "name": "stdout",
     "output_type": "stream",
     "text": [
      "Пример 1\n",
      "[1, 2, 3, 4, 5]\n",
      "Найденно первое чётное число: 2\n",
      "\n",
      "Пример 2\n",
      "Неверный пароль, попробуйте ещё раз\n",
      "Успешная авторизация!\n"
     ]
    }
   ],
   "source": [
    "# break -- досрочный выход из цикла\n",
    "\n",
    "# Пример 1 -- Поиск чётного числа (for)\n",
    "numbers = []\n",
    "\n",
    "for i in range(n):\n",
    "      i += 1\n",
    "      numbers.append(i)\n",
    "\n",
    "for num in numbers:\n",
    "      if num % 2 == 0:\n",
    "            print(f'Пример 1\\n{numbers}\\nНайденно первое чётное число: {num}\\n')\n",
    "            break\n",
    "\n",
    "# Пример 2 -- Ввод пароля (while)\n",
    "print('Пример 2')\n",
    "while True: # ВСЕГДА использовать условие выхода с break для бесконечных циклов\n",
    "      password = input('Введите пароль: ')\n",
    "      if password == '123':\n",
    "            print('Успешная авторизация!')\n",
    "            break\n",
    "      print('Неверный пароль, попробуйте ещё раз')"
   ]
  },
  {
   "cell_type": "code",
   "execution_count": 45,
   "id": "974fb0ad",
   "metadata": {},
   "outputs": [
    {
     "name": "stdout",
     "output_type": "stream",
     "text": [
      "Пример 1\n",
      "[-3, -2, -1, 0, 1, 2, 3]\n",
      "\n",
      "Положительное число: 0\n",
      "Положительное число: 1\n",
      "Положительное число: 2\n",
      "Положительное число: 3\n",
      "\n",
      "Пример 2\n",
      "['cat.jpg', 'dog.png', 'sun.jpg', 'sky.gif']\n",
      "\n",
      "Обработка JPEG: cat.jpg\n",
      "Обработка JPEG: sun.jpg\n"
     ]
    }
   ],
   "source": [
    "# continue -- пропуск текущей итерации (если нужно пропустить текущий шаг цикла и перейти к следующему)\n",
    "\n",
    "n_numbers = []\n",
    "\n",
    "for i in range(-3, 4):\n",
    "      n_numbers.append(i)\n",
    "      i += 1\n",
    "\n",
    "# Пример 1 -- Пропуск отрицательных чисел\n",
    "print(f'Пример 1\\n{n_numbers}\\n')\n",
    "for num in n_numbers:\n",
    "      if num < 0:\n",
    "            continue\n",
    "      print(f'Положительное число: {num}')\n",
    "\n",
    "# Пример 2 -- Обработка только JPEG-файлов\n",
    "\n",
    "files = [\"cat.jpg\", \"dog.png\", \"sun.jpg\", \"sky.gif\"]\n",
    "\n",
    "print(f'\\nПример 2\\n{files}\\n')\n",
    "for file in files:\n",
    "      if not file.endswith('.jpg'): # Метод endswith() проверяет, заканчивается ли строка на указанный суффикс (окончание).\n",
    "            continue\n",
    "      print(f'Обработка JPEG: {file}')"
   ]
  },
  {
   "cell_type": "code",
   "execution_count": null,
   "id": "9377473c",
   "metadata": {},
   "outputs": [],
   "source": [
    "# pass -- заглушка, нужна там, где синтаксис требует наличия кода, но логика программы пока не готова.\n",
    "\n",
    "for num in [1, 2, 3]:\n",
    "    pass  # цикл пока ничего не делает, но не вызывает ошибку"
   ]
  },
  {
   "cell_type": "markdown",
   "id": "16b2f4fd",
   "metadata": {},
   "source": [
    "pass ничего не делает, но сохраняет синтаксическую корректность."
   ]
  },
  {
   "cell_type": "code",
   "execution_count": 47,
   "id": "fc028942",
   "metadata": {},
   "outputs": [
    {
     "name": "stdout",
     "output_type": "stream",
     "text": [
      "Пример 1\n",
      "5 - простое число!\n",
      "\n",
      "Пример 2\n",
      "['яблоко', 'банан', 'апельсин']\n",
      "груша отсутствует в списке!\n"
     ]
    }
   ],
   "source": [
    "# else в циклах -- выполнение, если не было break\n",
    "\n",
    "# Пример 1 -- Проверка простого числа\n",
    "print('Пример 1')\n",
    "for i in range(2, n):\n",
    "      if n % i == 0:\n",
    "            print(f'{n} - не простое число')\n",
    "            break\n",
    "\n",
    "else:\n",
    "      print(f'{n} - простое число!')\n",
    "\n",
    "# Пример 2 -- Поиск элемента в списке\n",
    "items = ['яблоко', 'банан', 'апельсин']\n",
    "target = 'груша'\n",
    "\n",
    "print(f'\\nПример 2\\n{items}')\n",
    "for item in items:\n",
    "      if item == target:\n",
    "            print(f'Найдено: {item}')\n",
    "            break\n",
    "\n",
    "else:\n",
    "      print(f'{target} отсутствует в списке!')"
   ]
  },
  {
   "cell_type": "markdown",
   "id": "5733971b",
   "metadata": {},
   "source": [
    "else — универсальная конструкция\n",
    "\n",
    "1. else в условиях (if-else)\n",
    "Работает как альтернативная ветка, если условие не выполнено\n",
    "\n",
    "2. else в циклах\n",
    "это не аналог if-else, а дополнение к break.\n",
    "\n",
    "\n",
    "Почему else — особенный? В условиях и циклах else означает \"иначе\"\n",
    "\n",
    "else универсален, потому что выражает альтернативное выполнение (в условиях или циклах)."
   ]
  },
  {
   "cell_type": "markdown",
   "id": "7ba46daf",
   "metadata": {},
   "source": [
    "Итог\n",
    "\n",
    "Основные типы циклов:\n",
    "1. for            \n",
    "Перебор элементов\n",
    "2. while      \n",
    "Выполнение кода, пока условие истино    \n",
    "\n",
    "Управление выполнением циклов:\n",
    "1. break          \n",
    "Немедленно прерывает цикл.\n",
    "2. continue             \n",
    "Пропускает текущую итерацию, переходит к следующей.\n",
    "3. pass           \n",
    "Как заглушка для будущего кода.\n",
    "4. else           \n",
    "Выполняется, если цикл завершился без break."
   ]
  }
 ],
 "metadata": {
  "kernelspec": {
   "display_name": "Python 3",
   "language": "python",
   "name": "python3"
  },
  "language_info": {
   "codemirror_mode": {
    "name": "ipython",
    "version": 3
   },
   "file_extension": ".py",
   "mimetype": "text/x-python",
   "name": "python",
   "nbconvert_exporter": "python",
   "pygments_lexer": "ipython3",
   "version": "3.12.3"
  }
 },
 "nbformat": 4,
 "nbformat_minor": 5
}
