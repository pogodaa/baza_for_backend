{
 "cells": [
  {
   "cell_type": "markdown",
   "id": "e3e0235a",
   "metadata": {},
   "source": [
    "## Основа для Python backend-разработчика"
   ]
  },
  {
   "cell_type": "markdown",
   "id": "adef1138",
   "metadata": {},
   "source": [
    "### 1. Основы Python"
   ]
  },
  {
   "cell_type": "markdown",
   "id": "f0f79a13",
   "metadata": {},
   "source": [
    "#### 1.1. Синтаксис Python"
   ]
  },
  {
   "cell_type": "markdown",
   "id": "d76b1012",
   "metadata": {},
   "source": [
    "##### Циклы:"
   ]
  },
  {
   "cell_type": "code",
   "execution_count": null,
   "id": "e3fd81b5",
   "metadata": {},
   "outputs": [
    {
     "name": "stdout",
     "output_type": "stream",
     "text": [
      "0\n",
      "1\n",
      "2\n",
      "3\n",
      "4\n"
     ]
    }
   ],
   "source": [
    "# for -- перебор элементов (списки, строки, словари, генераторы)\n",
    "\n",
    "n = 5\n",
    "\n",
    "for i in range(n):\n",
    "      print(i)\n",
    "\n",
    "# структура range -- range(n) → 0 до n-1 || range(start, stop) → start до stop-1 || range(start, stop, step) → с шагом step"
   ]
  },
  {
   "cell_type": "code",
   "execution_count": 43,
   "id": "267c6172",
   "metadata": {},
   "outputs": [
    {
     "name": "stdout",
     "output_type": "stream",
     "text": [
      "0\n",
      "1\n",
      "2\n",
      "3\n",
      "4\n"
     ]
    }
   ],
   "source": [
    "# while -- выполняется до тех пор пока условие истино\n",
    "\n",
    "x = 0\n",
    "\n",
    "while x < 5:\n",
    "      print(x)\n",
    "      x += 1"
   ]
  },
  {
   "cell_type": "markdown",
   "id": "1707d7e1",
   "metadata": {},
   "source": [
    "break, continue, pass, else в циклах"
   ]
  },
  {
   "cell_type": "code",
   "execution_count": null,
   "id": "fe0dbfbe",
   "metadata": {},
   "outputs": [
    {
     "name": "stdout",
     "output_type": "stream",
     "text": [
      "Пример 1\n",
      "[1, 2, 3, 4, 5]\n",
      "Найденно первое чётное число: 2\n",
      "\n",
      "Пример 2\n",
      "Неверный пароль, попробуйте ещё раз\n",
      "Успешная авторизация!\n"
     ]
    }
   ],
   "source": [
    "# break -- досрочный выход из цикла\n",
    "\n",
    "# Пример 1 -- Поиск чётного числа (for)\n",
    "numbers = []\n",
    "\n",
    "for i in range(n):\n",
    "      i += 1\n",
    "      numbers.append(i)\n",
    "\n",
    "for num in numbers:\n",
    "      if num % 2 == 0:\n",
    "            print(f'Пример 1\\n{numbers}\\nНайденно первое чётное число: {num}\\n')\n",
    "            break\n",
    "\n",
    "# Пример 2 -- Ввод пароля (while)\n",
    "print('Пример 2')\n",
    "while True: # ВСЕГДА использовать условие выхода с break для бесконечных циклов\n",
    "      password = input('Введите пароль: ')\n",
    "      if password == '123':\n",
    "            print('Успешная авторизация!')\n",
    "            break\n",
    "      print('Неверный пароль, попробуйте ещё раз')"
   ]
  },
  {
   "cell_type": "code",
   "execution_count": 45,
   "id": "974fb0ad",
   "metadata": {},
   "outputs": [
    {
     "name": "stdout",
     "output_type": "stream",
     "text": [
      "Пример 1\n",
      "[-3, -2, -1, 0, 1, 2, 3]\n",
      "\n",
      "Положительное число: 0\n",
      "Положительное число: 1\n",
      "Положительное число: 2\n",
      "Положительное число: 3\n",
      "\n",
      "Пример 2\n",
      "['cat.jpg', 'dog.png', 'sun.jpg', 'sky.gif']\n",
      "\n",
      "Обработка JPEG: cat.jpg\n",
      "Обработка JPEG: sun.jpg\n"
     ]
    }
   ],
   "source": [
    "# continue -- пропуск текущей итерации (если нужно пропустить текущий шаг цикла и перейти к следующему)\n",
    "\n",
    "n_numbers = []\n",
    "\n",
    "for i in range(-3, 4):\n",
    "      n_numbers.append(i)\n",
    "      i += 1\n",
    "\n",
    "# Пример 1 -- Пропуск отрицательных чисел\n",
    "print(f'Пример 1\\n{n_numbers}\\n')\n",
    "for num in n_numbers:\n",
    "      if num < 0:\n",
    "            continue\n",
    "      print(f'Положительное число: {num}')\n",
    "\n",
    "# Пример 2 -- Обработка только JPEG-файлов\n",
    "\n",
    "files = [\"cat.jpg\", \"dog.png\", \"sun.jpg\", \"sky.gif\"]\n",
    "\n",
    "print(f'\\nПример 2\\n{files}\\n')\n",
    "for file in files:\n",
    "      if not file.endswith('.jpg'): # Метод endswith() проверяет, заканчивается ли строка на указанный суффикс (окончание).\n",
    "            continue\n",
    "      print(f'Обработка JPEG: {file}')"
   ]
  },
  {
   "cell_type": "code",
   "execution_count": null,
   "id": "9377473c",
   "metadata": {},
   "outputs": [],
   "source": [
    "# pass -- заглушка, нужна там, где синтаксис требует наличия кода, но логика программы пока не готова.\n",
    "\n",
    "for num in [1, 2, 3]:\n",
    "    pass  # цикл пока ничего не делает, но не вызывает ошибку"
   ]
  },
  {
   "cell_type": "markdown",
   "id": "16b2f4fd",
   "metadata": {},
   "source": [
    "pass ничего не делает, но сохраняет синтаксическую корректность."
   ]
  },
  {
   "cell_type": "code",
   "execution_count": 47,
   "id": "fc028942",
   "metadata": {},
   "outputs": [
    {
     "name": "stdout",
     "output_type": "stream",
     "text": [
      "Пример 1\n",
      "5 - простое число!\n",
      "\n",
      "Пример 2\n",
      "['яблоко', 'банан', 'апельсин']\n",
      "груша отсутствует в списке!\n"
     ]
    }
   ],
   "source": [
    "# else в циклах -- выполнение, если не было break\n",
    "\n",
    "# Пример 1 -- Проверка простого числа\n",
    "print('Пример 1')\n",
    "for i in range(2, n):\n",
    "      if n % i == 0:\n",
    "            print(f'{n} - не простое число')\n",
    "            break\n",
    "\n",
    "else:\n",
    "      print(f'{n} - простое число!')\n",
    "\n",
    "# Пример 2 -- Поиск элемента в списке\n",
    "items = ['яблоко', 'банан', 'апельсин']\n",
    "target = 'груша'\n",
    "\n",
    "print(f'\\nПример 2\\n{items}')\n",
    "for item in items:\n",
    "      if item == target:\n",
    "            print(f'Найдено: {item}')\n",
    "            break\n",
    "\n",
    "else:\n",
    "      print(f'{target} отсутствует в списке!')"
   ]
  },
  {
   "cell_type": "markdown",
   "id": "5733971b",
   "metadata": {},
   "source": [
    "else — универсальная конструкция\n",
    "\n",
    "1. else в условиях (if-else)\n",
    "Работает как альтернативная ветка, если условие не выполнено\n",
    "\n",
    "2. else в циклах\n",
    "это не аналог if-else, а дополнение к break.\n",
    "\n",
    "\n",
    "Почему else — особенный? В условиях и циклах else означает \"иначе\"\n",
    "\n",
    "else универсален, потому что выражает альтернативное выполнение (в условиях или циклах)."
   ]
  },
  {
   "cell_type": "markdown",
   "id": "7ba46daf",
   "metadata": {},
   "source": [
    "Итог\n",
    "\n",
    "Основные типы циклов:\n",
    "1. for            \n",
    "Перебор элементов\n",
    "2. while      \n",
    "Выполнение кода, пока условие истино    \n",
    "\n",
    "Управление выполнением циклов:\n",
    "1. break          \n",
    "Немедленно прерывает цикл.\n",
    "2. continue             \n",
    "Пропускает текущую итерацию, переходит к следующей.\n",
    "3. pass           \n",
    "Как заглушка для будущего кода.\n",
    "4. else           \n",
    "Выполняется, если цикл завершился без break."
   ]
  },
  {
   "cell_type": "markdown",
   "id": "840c2dae",
   "metadata": {},
   "source": [
    "##### Условия:"
   ]
  },
  {
   "cell_type": "markdown",
   "id": "c27d4b2a",
   "metadata": {},
   "source": [
    "1. Простое условие if"
   ]
  },
  {
   "cell_type": "code",
   "execution_count": 57,
   "id": "6877d84e",
   "metadata": {},
   "outputs": [
    {
     "name": "stdout",
     "output_type": "stream",
     "text": [
      "Вы совершеннолетний\n"
     ]
    }
   ],
   "source": [
    "age = 18\n",
    "if age >= 18:\n",
    "    print(\"Вы совершеннолетний\")  # Выведется, если условие True"
   ]
  },
  {
   "cell_type": "markdown",
   "id": "e46c5791",
   "metadata": {},
   "source": [
    "2. Ветвление if-else"
   ]
  },
  {
   "cell_type": "code",
   "execution_count": 58,
   "id": "e1fdd7e1",
   "metadata": {},
   "outputs": [
    {
     "name": "stdout",
     "output_type": "stream",
     "text": [
      "Вы несовершеннолетний\n"
     ]
    }
   ],
   "source": [
    "age = 16\n",
    "if age >= 18:\n",
    "    print(\"Вы совершеннолетний\")\n",
    "else:\n",
    "    print(\"Вы несовершеннолетний\")  # Выведется это"
   ]
  },
  {
   "cell_type": "markdown",
   "id": "60498ba4",
   "metadata": {},
   "source": [
    "3. Множественные условия if-elif-else"
   ]
  },
  {
   "cell_type": "code",
   "execution_count": 59,
   "id": "66075cdd",
   "metadata": {},
   "outputs": [
    {
     "name": "stdout",
     "output_type": "stream",
     "text": [
      "Оценка B\n"
     ]
    }
   ],
   "source": [
    "score = 85\n",
    "\n",
    "if score >= 90:\n",
    "    print(\"Оценка A\")\n",
    "elif score >= 80:  # Проверяется только если предыдущее условие False\n",
    "    print(\"Оценка B\")  # Сработает это\n",
    "elif score >= 70:\n",
    "    print(\"Оценка C\")\n",
    "else:\n",
    "    print(\"Оценка D\")"
   ]
  },
  {
   "cell_type": "markdown",
   "id": "1b0c93b5",
   "metadata": {},
   "source": [
    "4. Продвинутые примеры"
   ]
  },
  {
   "cell_type": "code",
   "execution_count": 60,
   "id": "11c5d3ca",
   "metadata": {},
   "outputs": [
    {
     "name": "stdout",
     "output_type": "stream",
     "text": [
      "Можно арендовать авто\n"
     ]
    }
   ],
   "source": [
    "age = 25\n",
    "has_license = True\n",
    "\n",
    "if 18 <= age <= 65 and has_license:\n",
    "    print(\"Можно арендовать авто\")"
   ]
  },
  {
   "cell_type": "code",
   "execution_count": null,
   "id": "958e335f",
   "metadata": {},
   "outputs": [
    {
     "name": "stdout",
     "output_type": "stream",
     "text": [
      "Статус корректен\n"
     ]
    }
   ],
   "source": [
    "valid_statuses = [\"active\", \"pending\", \"completed\"]\n",
    "status = 'completed'\n",
    "\n",
    "if status in valid_statuses:\n",
    "    print(\"Статус корректен\")"
   ]
  },
  {
   "cell_type": "markdown",
   "id": "d43540a2",
   "metadata": {},
   "source": [
    "5. Распространённые ошибки"
   ]
  },
  {
   "cell_type": "markdown",
   "id": "09228cf5",
   "metadata": {},
   "source": [
    "1. Путаница с = и ==:         \n",
    "if x = 10:  # SyntaxError! Нужно ==\n",
    "2. Лишние скобки:       \n",
    "if (x > 0):  # Работает, но скобки избыточны\n",
    "3. Сравнение разных типов:          \n",
    "if x == \"10\":  # False, если x = 10 (int != str)"
   ]
  },
  {
   "cell_type": "markdown",
   "id": "aab989b6",
   "metadata": {},
   "source": [
    "Особенности:\n",
    "1. Условия проверяются последовательно сверху вниз\n",
    "2. Как только находится истинное условие, выполняется соответствующий блок кода, после чего конструкция завершает работу (остальные условия не проверяются)\n",
    "3. Блок else не обязателен\n",
    "4. Можно использовать несколько elif между if и else\n",
    "5. Условия могут быть любой сложности с использованием логических операторов (and, or, not)"
   ]
  },
  {
   "cell_type": "code",
   "execution_count": 51,
   "id": "1638f0ba",
   "metadata": {},
   "outputs": [
    {
     "name": "stdout",
     "output_type": "stream",
     "text": [
      "Хорошая погода\n"
     ]
    }
   ],
   "source": [
    "temperature = 25\n",
    "weather = \"солнечно\"\n",
    "\n",
    "if temperature > 30 and weather == \"солнечно\":\n",
    "    print(\"Очень жарко и солнечно!\")\n",
    "elif temperature > 20 or weather == \"солнечно\":\n",
    "    print(\"Хорошая погода\")\n",
    "else:\n",
    "    print(\"Погода так себе\")"
   ]
  },
  {
   "cell_type": "markdown",
   "id": "78637fcf",
   "metadata": {},
   "source": [
    "Также есть такая штука как Тернарный оператор который делает код компактнее, но может снизить читаемость при сложных условиях, поэтому нужно использовать его разумно.\n",
    "\n",
    "Вот пример"
   ]
  },
  {
   "cell_type": "code",
   "execution_count": 56,
   "id": "d905dbbf",
   "metadata": {},
   "outputs": [
    {
     "name": "stdout",
     "output_type": "stream",
     "text": [
      "Отрицательное\n"
     ]
    }
   ],
   "source": [
    "x = -11\n",
    "message = \"Положительное\" if x > 0 else (\"Ноль\" if x == 0 else \"Отрицательное\")\n",
    "print(message)"
   ]
  },
  {
   "cell_type": "markdown",
   "id": "9ee3cee0",
   "metadata": {},
   "source": [
    "Итог \n",
    "\n",
    "1. if       \n",
    "Проверка одного условия\n",
    "2. if-else        \n",
    "Выбор между двумя вариантами\n",
    "3. if-elif-else         \n",
    "Выбор из нескольких вариантов\n",
    "4. Тернарный оператор         \n",
    "Простые однострочные условия"
   ]
  }
 ],
 "metadata": {
  "kernelspec": {
   "display_name": "Python 3",
   "language": "python",
   "name": "python3"
  },
  "language_info": {
   "codemirror_mode": {
    "name": "ipython",
    "version": 3
   },
   "file_extension": ".py",
   "mimetype": "text/x-python",
   "name": "python",
   "nbconvert_exporter": "python",
   "pygments_lexer": "ipython3",
   "version": "3.12.3"
  }
 },
 "nbformat": 4,
 "nbformat_minor": 5
}
