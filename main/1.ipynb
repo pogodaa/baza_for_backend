{
 "cells": [
  {
   "cell_type": "markdown",
   "id": "e3e0235a",
   "metadata": {},
   "source": [
    "## Основа для Python backend-разработчика"
   ]
  },
  {
   "cell_type": "markdown",
   "id": "adef1138",
   "metadata": {},
   "source": [
    "### 1. Основы Python"
   ]
  },
  {
   "cell_type": "markdown",
   "id": "f0f79a13",
   "metadata": {},
   "source": [
    "#### 1.1. Синтаксис Python"
   ]
  },
  {
   "cell_type": "markdown",
   "id": "d76b1012",
   "metadata": {},
   "source": [
    "##### Циклы:"
   ]
  },
  {
   "cell_type": "code",
   "execution_count": null,
   "id": "e3fd81b5",
   "metadata": {},
   "outputs": [
    {
     "name": "stdout",
     "output_type": "stream",
     "text": [
      "0\n",
      "1\n",
      "2\n",
      "3\n",
      "4\n"
     ]
    }
   ],
   "source": [
    "# for -- перебор элементов (списки, строки, словари, генераторы)\n",
    "\n",
    "n = 5\n",
    "\n",
    "for i in range(n):\n",
    "      print(i)\n",
    "\n",
    "# структура range -- range(n) → 0 до n-1 || range(start, stop) → start до stop-1 || range(start, stop, step) → с шагом step"
   ]
  },
  {
   "cell_type": "code",
   "execution_count": 43,
   "id": "267c6172",
   "metadata": {},
   "outputs": [
    {
     "name": "stdout",
     "output_type": "stream",
     "text": [
      "0\n",
      "1\n",
      "2\n",
      "3\n",
      "4\n"
     ]
    }
   ],
   "source": [
    "# while -- выполняется до тех пор пока условие истино\n",
    "\n",
    "x = 0\n",
    "\n",
    "while x < 5:\n",
    "      print(x)\n",
    "      x += 1"
   ]
  },
  {
   "cell_type": "markdown",
   "id": "1707d7e1",
   "metadata": {},
   "source": [
    "break, continue, pass, else в циклах"
   ]
  },
  {
   "cell_type": "code",
   "execution_count": null,
   "id": "fe0dbfbe",
   "metadata": {},
   "outputs": [
    {
     "name": "stdout",
     "output_type": "stream",
     "text": [
      "Пример 1\n",
      "[1, 2, 3, 4, 5]\n",
      "Найденно первое чётное число: 2\n",
      "\n",
      "Пример 2\n",
      "Неверный пароль, попробуйте ещё раз\n",
      "Успешная авторизация!\n"
     ]
    }
   ],
   "source": [
    "# break -- досрочный выход из цикла\n",
    "\n",
    "# Пример 1 -- Поиск чётного числа (for)\n",
    "numbers = []\n",
    "\n",
    "for i in range(n):\n",
    "      i += 1\n",
    "      numbers.append(i)\n",
    "\n",
    "for num in numbers:\n",
    "      if num % 2 == 0:\n",
    "            print(f'Пример 1\\n{numbers}\\nНайденно первое чётное число: {num}\\n')\n",
    "            break\n",
    "\n",
    "# Пример 2 -- Ввод пароля (while)\n",
    "print('Пример 2')\n",
    "while True: # ВСЕГДА использовать условие выхода с break для бесконечных циклов\n",
    "      password = input('Введите пароль: ')\n",
    "      if password == '123':\n",
    "            print('Успешная авторизация!')\n",
    "            break\n",
    "      print('Неверный пароль, попробуйте ещё раз')"
   ]
  },
  {
   "cell_type": "code",
   "execution_count": 45,
   "id": "974fb0ad",
   "metadata": {},
   "outputs": [
    {
     "name": "stdout",
     "output_type": "stream",
     "text": [
      "Пример 1\n",
      "[-3, -2, -1, 0, 1, 2, 3]\n",
      "\n",
      "Положительное число: 0\n",
      "Положительное число: 1\n",
      "Положительное число: 2\n",
      "Положительное число: 3\n",
      "\n",
      "Пример 2\n",
      "['cat.jpg', 'dog.png', 'sun.jpg', 'sky.gif']\n",
      "\n",
      "Обработка JPEG: cat.jpg\n",
      "Обработка JPEG: sun.jpg\n"
     ]
    }
   ],
   "source": [
    "# continue -- пропуск текущей итерации (если нужно пропустить текущий шаг цикла и перейти к следующему)\n",
    "\n",
    "n_numbers = []\n",
    "\n",
    "for i in range(-3, 4):\n",
    "      n_numbers.append(i)\n",
    "      i += 1\n",
    "\n",
    "# Пример 1 -- Пропуск отрицательных чисел\n",
    "print(f'Пример 1\\n{n_numbers}\\n')\n",
    "for num in n_numbers:\n",
    "      if num < 0:\n",
    "            continue\n",
    "      print(f'Положительное число: {num}')\n",
    "\n",
    "# Пример 2 -- Обработка только JPEG-файлов\n",
    "\n",
    "files = [\"cat.jpg\", \"dog.png\", \"sun.jpg\", \"sky.gif\"]\n",
    "\n",
    "print(f'\\nПример 2\\n{files}\\n')\n",
    "for file in files:\n",
    "      if not file.endswith('.jpg'): # Метод endswith() проверяет, заканчивается ли строка на указанный суффикс (окончание).\n",
    "            continue\n",
    "      print(f'Обработка JPEG: {file}')"
   ]
  },
  {
   "cell_type": "code",
   "execution_count": null,
   "id": "9377473c",
   "metadata": {},
   "outputs": [],
   "source": [
    "# pass -- заглушка, нужна там, где синтаксис требует наличия кода, но логика программы пока не готова.\n",
    "\n",
    "for num in [1, 2, 3]:\n",
    "    pass  # цикл пока ничего не делает, но не вызывает ошибку"
   ]
  },
  {
   "cell_type": "markdown",
   "id": "16b2f4fd",
   "metadata": {},
   "source": [
    "pass ничего не делает, но сохраняет синтаксическую корректность."
   ]
  },
  {
   "cell_type": "code",
   "execution_count": 47,
   "id": "fc028942",
   "metadata": {},
   "outputs": [
    {
     "name": "stdout",
     "output_type": "stream",
     "text": [
      "Пример 1\n",
      "5 - простое число!\n",
      "\n",
      "Пример 2\n",
      "['яблоко', 'банан', 'апельсин']\n",
      "груша отсутствует в списке!\n"
     ]
    }
   ],
   "source": [
    "# else в циклах -- выполнение, если не было break\n",
    "\n",
    "# Пример 1 -- Проверка простого числа\n",
    "print('Пример 1')\n",
    "for i in range(2, n):\n",
    "      if n % i == 0:\n",
    "            print(f'{n} - не простое число')\n",
    "            break\n",
    "\n",
    "else:\n",
    "      print(f'{n} - простое число!')\n",
    "\n",
    "# Пример 2 -- Поиск элемента в списке\n",
    "items = ['яблоко', 'банан', 'апельсин']\n",
    "target = 'груша'\n",
    "\n",
    "print(f'\\nПример 2\\n{items}')\n",
    "for item in items:\n",
    "      if item == target:\n",
    "            print(f'Найдено: {item}')\n",
    "            break\n",
    "\n",
    "else:\n",
    "      print(f'{target} отсутствует в списке!')"
   ]
  },
  {
   "cell_type": "markdown",
   "id": "5733971b",
   "metadata": {},
   "source": [
    "else — универсальная конструкция\n",
    "\n",
    "1. else в условиях (if-else)\n",
    "Работает как альтернативная ветка, если условие не выполнено\n",
    "\n",
    "2. else в циклах\n",
    "это не аналог if-else, а дополнение к break.\n",
    "\n",
    "\n",
    "Почему else — особенный? В условиях и циклах else означает \"иначе\"\n",
    "\n",
    "else универсален, потому что выражает альтернативное выполнение (в условиях или циклах)."
   ]
  },
  {
   "cell_type": "markdown",
   "id": "7ba46daf",
   "metadata": {},
   "source": [
    "Итог\n",
    "\n",
    "Основные типы циклов:\n",
    "1. for            \n",
    "Перебор элементов\n",
    "2. while      \n",
    "Выполнение кода, пока условие истино    \n",
    "\n",
    "Управление выполнением циклов:\n",
    "1. break          \n",
    "Немедленно прерывает цикл.\n",
    "2. continue             \n",
    "Пропускает текущую итерацию, переходит к следующей.\n",
    "3. pass           \n",
    "Как заглушка для будущего кода.\n",
    "4. else           \n",
    "Выполняется, если цикл завершился без break."
   ]
  },
  {
   "cell_type": "markdown",
   "id": "840c2dae",
   "metadata": {},
   "source": [
    "##### Условия:"
   ]
  },
  {
   "cell_type": "markdown",
   "id": "c27d4b2a",
   "metadata": {},
   "source": [
    "1. Простое условие if"
   ]
  },
  {
   "cell_type": "code",
   "execution_count": 57,
   "id": "6877d84e",
   "metadata": {},
   "outputs": [
    {
     "name": "stdout",
     "output_type": "stream",
     "text": [
      "Вы совершеннолетний\n"
     ]
    }
   ],
   "source": [
    "age = 18\n",
    "if age >= 18:\n",
    "    print(\"Вы совершеннолетний\")  # Выведется, если условие True"
   ]
  },
  {
   "cell_type": "markdown",
   "id": "e46c5791",
   "metadata": {},
   "source": [
    "2. Ветвление if-else"
   ]
  },
  {
   "cell_type": "code",
   "execution_count": 58,
   "id": "e1fdd7e1",
   "metadata": {},
   "outputs": [
    {
     "name": "stdout",
     "output_type": "stream",
     "text": [
      "Вы несовершеннолетний\n"
     ]
    }
   ],
   "source": [
    "age = 16\n",
    "if age >= 18:\n",
    "    print(\"Вы совершеннолетний\")\n",
    "else:\n",
    "    print(\"Вы несовершеннолетний\")  # Выведется это"
   ]
  },
  {
   "cell_type": "markdown",
   "id": "60498ba4",
   "metadata": {},
   "source": [
    "3. Множественные условия if-elif-else"
   ]
  },
  {
   "cell_type": "code",
   "execution_count": 59,
   "id": "66075cdd",
   "metadata": {},
   "outputs": [
    {
     "name": "stdout",
     "output_type": "stream",
     "text": [
      "Оценка B\n"
     ]
    }
   ],
   "source": [
    "score = 85\n",
    "\n",
    "if score >= 90:\n",
    "    print(\"Оценка A\")\n",
    "elif score >= 80:  # Проверяется только если предыдущее условие False\n",
    "    print(\"Оценка B\")  # Сработает это\n",
    "elif score >= 70:\n",
    "    print(\"Оценка C\")\n",
    "else:\n",
    "    print(\"Оценка D\")"
   ]
  },
  {
   "cell_type": "markdown",
   "id": "1b0c93b5",
   "metadata": {},
   "source": [
    "4. Продвинутые примеры"
   ]
  },
  {
   "cell_type": "code",
   "execution_count": 60,
   "id": "11c5d3ca",
   "metadata": {},
   "outputs": [
    {
     "name": "stdout",
     "output_type": "stream",
     "text": [
      "Можно арендовать авто\n"
     ]
    }
   ],
   "source": [
    "age = 25\n",
    "has_license = True\n",
    "\n",
    "if 18 <= age <= 65 and has_license:\n",
    "    print(\"Можно арендовать авто\")"
   ]
  },
  {
   "cell_type": "code",
   "execution_count": null,
   "id": "958e335f",
   "metadata": {},
   "outputs": [
    {
     "name": "stdout",
     "output_type": "stream",
     "text": [
      "Статус корректен\n"
     ]
    }
   ],
   "source": [
    "valid_statuses = [\"active\", \"pending\", \"completed\"]\n",
    "status = 'completed'\n",
    "\n",
    "if status in valid_statuses:\n",
    "    print(\"Статус корректен\")"
   ]
  },
  {
   "cell_type": "markdown",
   "id": "d43540a2",
   "metadata": {},
   "source": [
    "5. Распространённые ошибки"
   ]
  },
  {
   "cell_type": "markdown",
   "id": "09228cf5",
   "metadata": {},
   "source": [
    "1. Путаница с = и ==:         \n",
    "if x = 10:  # SyntaxError! Нужно ==\n",
    "2. Лишние скобки:       \n",
    "if (x > 0):  # Работает, но скобки избыточны\n",
    "3. Сравнение разных типов:          \n",
    "if x == \"10\":  # False, если x = 10 (int != str)"
   ]
  },
  {
   "cell_type": "markdown",
   "id": "aab989b6",
   "metadata": {},
   "source": [
    "Особенности:\n",
    "1. Условия проверяются последовательно сверху вниз\n",
    "2. Как только находится истинное условие, выполняется соответствующий блок кода, после чего конструкция завершает работу (остальные условия не проверяются)\n",
    "3. Блок else не обязателен\n",
    "4. Можно использовать несколько elif между if и else\n",
    "5. Условия могут быть любой сложности с использованием логических операторов (and, or, not)"
   ]
  },
  {
   "cell_type": "code",
   "execution_count": 51,
   "id": "1638f0ba",
   "metadata": {},
   "outputs": [
    {
     "name": "stdout",
     "output_type": "stream",
     "text": [
      "Хорошая погода\n"
     ]
    }
   ],
   "source": [
    "temperature = 25\n",
    "weather = \"солнечно\"\n",
    "\n",
    "if temperature > 30 and weather == \"солнечно\":\n",
    "    print(\"Очень жарко и солнечно!\")\n",
    "elif temperature > 20 or weather == \"солнечно\":\n",
    "    print(\"Хорошая погода\")\n",
    "else:\n",
    "    print(\"Погода так себе\")"
   ]
  },
  {
   "cell_type": "markdown",
   "id": "78637fcf",
   "metadata": {},
   "source": [
    "Также есть такая штука как Тернарный оператор который делает код компактнее, но может снизить читаемость при сложных условиях, поэтому нужно использовать его разумно.\n",
    "\n",
    "Вот пример"
   ]
  },
  {
   "cell_type": "code",
   "execution_count": 56,
   "id": "d905dbbf",
   "metadata": {},
   "outputs": [
    {
     "name": "stdout",
     "output_type": "stream",
     "text": [
      "Отрицательное\n"
     ]
    }
   ],
   "source": [
    "x = -11\n",
    "message = \"Положительное\" if x > 0 else (\"Ноль\" if x == 0 else \"Отрицательное\")\n",
    "print(message)"
   ]
  },
  {
   "cell_type": "markdown",
   "id": "9ee3cee0",
   "metadata": {},
   "source": [
    "Итог \n",
    "\n",
    "1. if       \n",
    "Проверка одного условия\n",
    "2. if-else        \n",
    "Выбор между двумя вариантами\n",
    "3. if-elif-else         \n",
    "Выбор из нескольких вариантов\n",
    "4. Тернарный оператор         \n",
    "Простые однострочные условия"
   ]
  },
  {
   "cell_type": "markdown",
   "id": "a000f00f",
   "metadata": {},
   "source": [
    "##### Функции:"
   ]
  },
  {
   "cell_type": "markdown",
   "id": "48efc0df",
   "metadata": {},
   "source": [
    "Функции в Python — это блоки кода, которые выполняют определенную задачу и могут быть переиспользованы. В backend-разработке функции используются для:\n",
    "\n",
    "Обработки HTTP-запросов (например, в Django/Flask/FastAPI)\n",
    "\n",
    "Работы с базой данных\n",
    "\n",
    "Бизнес-логики приложения\n",
    "\n",
    "Валидации данных"
   ]
  },
  {
   "cell_type": "markdown",
   "id": "b3481af2",
   "metadata": {},
   "source": [
    "1. Основы функций"
   ]
  },
  {
   "cell_type": "code",
   "execution_count": 2,
   "id": "7011da3e",
   "metadata": {},
   "outputs": [
    {
     "name": "stdout",
     "output_type": "stream",
     "text": [
      "8\n"
     ]
    }
   ],
   "source": [
    "def add(a, b):\n",
    "    return a + b\n",
    "\n",
    "result = add(3, 5)  # 8\n",
    "print(result)"
   ]
  },
  {
   "cell_type": "markdown",
   "id": "983e546a",
   "metadata": {},
   "source": [
    "Основы функций (с аннотациями типов)\n",
    "\n",
    "Аннотации типов — это подсказки для Python, которые указывают, какие типы данных должны быть у переменных, аргументов функций и возвращаемых значений.\n",
    "\n",
    "Зачем это нужно?\n",
    "1. Подсказки для разработчиков — сразу видно, какие типы ожидаются\n",
    "\n",
    "2. Помощь IDE — автодополнение кода и подсветка ошибок\n",
    "\n",
    "3. Проверка типов (с помощью специальных инструментов вроде mypy)"
   ]
  },
  {
   "cell_type": "code",
   "execution_count": 29,
   "id": "31d7173a",
   "metadata": {},
   "outputs": [
    {
     "data": {
      "text/plain": [
       "90"
      ]
     },
     "execution_count": 29,
     "metadata": {},
     "output_type": "execute_result"
    }
   ],
   "source": [
    "def add(a: int, b: int) -> int:\n",
    "    \"\"\"Складывает два числа. Используется в API калькулятора.\"\"\"\n",
    "    return a + b\n",
    "\n",
    "# В FastAPI/Django это будет:\n",
    "# @api.get(\"/add\")\n",
    "# def add_endpoint(a: int, b: int):\n",
    "#     return {\"result\": add(a, b)}\n",
    "\n",
    "add(55,35)"
   ]
  },
  {
   "cell_type": "markdown",
   "id": "8ca6c082",
   "metadata": {},
   "source": [
    "2. Параметры функций"
   ]
  },
  {
   "cell_type": "code",
   "execution_count": 3,
   "id": "572b7bce",
   "metadata": {},
   "outputs": [
    {
     "data": {
      "text/plain": [
       "'Hey, Tom!'"
      ]
     },
     "execution_count": 3,
     "metadata": {},
     "output_type": "execute_result"
    }
   ],
   "source": [
    "def greet(name, message=\"Hello\"):\n",
    "    return f\"{message}, {name}!\"\n",
    "\n",
    "greet(\"Alice\")               # \"Hello, Alice!\" (значение по умолчанию)\n",
    "greet(\"Bob\", \"Hi\")           # \"Hi, Bob!\" (позиционные)\n",
    "greet(message=\"Hey\", name=\"Tom\")  # \"Hey, Tom!\" (именованные)"
   ]
  },
  {
   "cell_type": "markdown",
   "id": "a17f1346",
   "metadata": {},
   "source": [
    "*args и **kwargs (для переменного числа аргументов)"
   ]
  },
  {
   "cell_type": "markdown",
   "id": "2807a714",
   "metadata": {},
   "source": [
    "*args — когда аргументов много, а назвать лень\n",
    "\n",
    "Если в функцию нужно передать сколько угодно значений без имен — используй *args.\n",
    "\n",
    "Все эти значения соберутся в кортеж (как список, но неизменяемый)."
   ]
  },
  {
   "cell_type": "code",
   "execution_count": 6,
   "id": "28652cd6",
   "metadata": {},
   "outputs": [
    {
     "name": "stdout",
     "output_type": "stream",
     "text": [
      "Мне передали: (1, 2, 3, 4, 5) (тип: <class 'tuple'>)\n",
      "15\n"
     ]
    }
   ],
   "source": [
    "def sum_all(*args):\n",
    "    print(f\"Мне передали: {args} (тип: {type(args)})\")\n",
    "    return sum(args)\n",
    "\n",
    "print(sum_all(1, 2, 3, 4, 5))  # Можно передать сколько угодно чисел"
   ]
  },
  {
   "cell_type": "markdown",
   "id": "4ca7d6c2",
   "metadata": {},
   "source": [
    "**kwargs — когда аргументы с именами, но их много\n",
    "\n",
    "Если нужно передать кучу параметров по имени (например name=\"Вася\", age=30) — используй **kwargs.\n",
    "\n",
    "Все они соберутся в словарь ({\"name\": \"Вася\", \"age\": 30})."
   ]
  },
  {
   "cell_type": "code",
   "execution_count": 7,
   "id": "f71b0c05",
   "metadata": {},
   "outputs": [
    {
     "name": "stdout",
     "output_type": "stream",
     "text": [
      "Данные: {'name': 'Петя', 'age': 25, 'city': 'Москва'} (тип: <class 'dict'>)\n",
      "name: Петя\n",
      "age: 25\n",
      "city: Москва\n"
     ]
    }
   ],
   "source": [
    "def show_dannie(**kwargs):\n",
    "    print(f\"Данные: {kwargs} (тип: {type(kwargs)})\")\n",
    "    for ключ, значение in kwargs.items():\n",
    "        print(f\"{ключ}: {значение}\")\n",
    "\n",
    "show_dannie(name=\"Петя\", age=25, city=\"Москва\")"
   ]
  },
  {
   "cell_type": "markdown",
   "id": "66b17195",
   "metadata": {},
   "source": [
    "3. Возврат значений\n",
    "\n",
    "Функция может возвращать:\n",
    "\n",
    "      Одно значение (return x)\n",
    "      Несколько значений (кортеж)\n",
    "      None (если нет return)"
   ]
  },
  {
   "cell_type": "code",
   "execution_count": 8,
   "id": "8c181b36",
   "metadata": {},
   "outputs": [],
   "source": [
    "def get_user_data(user_id):\n",
    "    if user_id == 1:\n",
    "        return {\"id\": 1, \"name\": \"Alice\"}\n",
    "    return None  # если пользователь не найден"
   ]
  },
  {
   "cell_type": "markdown",
   "id": "06c6f281",
   "metadata": {},
   "source": [
    "4. Замыкания и функции высшего порядка"
   ]
  },
  {
   "cell_type": "markdown",
   "id": "8eb322cc",
   "metadata": {},
   "source": [
    "1. Функции высшего порядка (как начальники)\n",
    "\n",
    "Это функции, которые:         \n",
    "✔ Принимают другие функции как аргументы       \n",
    "✔ Возвращают функции как результат"
   ]
  },
  {
   "cell_type": "code",
   "execution_count": null,
   "id": "6f42574c",
   "metadata": {},
   "outputs": [
    {
     "name": "stdout",
     "output_type": "stream",
     "text": [
      "Пример 1\n",
      "\n",
      "ПРИВЕТ!!!\n",
      "пока...\n"
     ]
    }
   ],
   "source": [
    "# Пример 1 -- Функция принимает другую функцию\n",
    "\n",
    "def gromko(text):\n",
    "      return text.upper() + '!!!'\n",
    "\n",
    "def tixo(text):\n",
    "      return text.lower() + '...'\n",
    "\n",
    "def main(func, text):\n",
    "      return func(text)\n",
    "\n",
    "print('Пример 1\\n')\n",
    "print(main(gromko, 'привет')) # ПРИВЕТ!!!\n",
    "print(main(tixo, 'ПОКА')) # пока..."
   ]
  },
  {
   "cell_type": "markdown",
   "id": "daf0b263",
   "metadata": {},
   "source": [
    "Лямбда-функция (lambda) — это способ создать маленькую анонимную функцию в одну строку. Давай разберём твой пример по косточкам.\n",
    "\n",
    "Лямбда-функция — это просто сокращённая запись обычной функции, которая:\n",
    "1. Не имеет имени (анонимная функция).\n",
    "2. Состоит из одного выражения, которое автоматически возвращается (не нужно писать return).\n",
    "3. Часто используется там, где нужна простая функция на короткое время.\n",
    "\n",
    "Ключевые моменты:\n",
    "1. lambda name: — это аналог def greeting(name):, но без имени.\n",
    "2. После : идет выражение (f\"Ура, {name}!\"), которое автоматически возвращается.\n",
    "\n",
    "Важно:\n",
    "1. Лямбда не может содержать сложные конструкции (циклы, if-elif-else, присваивания и т.д.).\n",
    "2. Если функция становится сложной, лучше использовать def."
   ]
  },
  {
   "cell_type": "code",
   "execution_count": null,
   "id": "2b0c4faa",
   "metadata": {},
   "outputs": [
    {
     "data": {
      "text/plain": [
       "<function __main__.<lambda>(name)>"
      ]
     },
     "execution_count": 11,
     "metadata": {},
     "output_type": "execute_result"
    }
   ],
   "source": [
    "# Это сокращённая запись функции. \n",
    "# Обычную функцию:\n",
    "def greeting(name):\n",
    "    return f\"Ура, {name}!\"\n",
    "\n",
    "# Можно записать как лямбду:\n",
    "lambda name: f\"Ура, {name}!\""
   ]
  },
  {
   "cell_type": "code",
   "execution_count": 15,
   "id": "50bf033a",
   "metadata": {},
   "outputs": [
    {
     "name": "stdout",
     "output_type": "stream",
     "text": [
      "Ура, Слава!\n",
      "Ну привет, чел...\n"
     ]
    }
   ],
   "source": [
    "# Пример 2 -- Функция возвращает другую функцию\n",
    "\n",
    "def greeting(mud):\n",
    "      if mud == 'радость':\n",
    "            return lambda name:f'Ура, {name}!'\n",
    "      else:\n",
    "            return lambda name:f'Ну привет, {name}...'\n",
    "      \n",
    "rad = greeting('радость')\n",
    "n_rad = greeting('грустно')\n",
    "\n",
    "print(rad('Слава'))\n",
    "print(n_rad('чел'))"
   ]
  },
  {
   "cell_type": "markdown",
   "id": "12c5420a",
   "metadata": {},
   "source": [
    "2. Замыкания (как \"памятливые\" коробки)\n",
    "\n",
    "Замыкания (closures) — это мощный инструмент в Python, особенно полезный в backend-разработке. Они позволяют сохранять состояние между вызовами функций и создавать \"умные\" фабрики компонентов.\n",
    "\n",
    "Замыкание — это функция, которая:\n",
    "\n",
    "1. Запоминает переменные из окружающей области видимости (даже после завершения работы внешней функции)\n",
    "\n",
    "2. Сохраняет состояние между вызовами\n",
    "\n",
    "Главное правило:        \n",
    "Замыкание — это функция + окружение, которое она запомнила. Как коробка с блокнотом для записей! 📝"
   ]
  },
  {
   "cell_type": "code",
   "execution_count": null,
   "id": "8627331d",
   "metadata": {},
   "outputs": [
    {
     "name": "stdout",
     "output_type": "stream",
     "text": [
      "1\n",
      "2\n"
     ]
    }
   ],
   "source": [
    "def count_qq():\n",
    "      count = 0\n",
    "\n",
    "      def increment():\n",
    "            nonlocal count # Говорим: \"запоминай эту переменную!\"\n",
    "            count += 1\n",
    "            return count\n",
    "\n",
    "      return increment\n",
    "\n",
    "cc = count_qq()\n",
    "print(cc())\n",
    "print(cc())"
   ]
  },
  {
   "cell_type": "markdown",
   "id": "2c1930d2",
   "metadata": {},
   "source": [
    "Как это работает?       \n",
    "nonlocal говорит Python:            \n",
    "\"Не создавай новую локальную переменную count, а используй ту, что уже есть во внешней функции счётчик()\".\n",
    "\n",
    "Без nonlocal/global Python по умолчанию создаёт локальную переменную.\n",
    "\n",
    "Чем отличается от global?           \n",
    "Команда\tОбласть поиска переменной           \n",
    "nonlocal\tВо внешних функциях (но не в глобальной области)            \n",
    "global\tВ глобальной области (уровень модуля)"
   ]
  },
  {
   "cell_type": "markdown",
   "id": "345cd192",
   "metadata": {},
   "source": [
    "===================================================================================================================================="
   ]
  },
  {
   "cell_type": "markdown",
   "id": "fd560261",
   "metadata": {},
   "source": [
    "Где применять:\n",
    "\n",
    "1. Кэширование\n",
    "\n",
    "2. Пул соединений\n",
    "\n",
    "3. Middleware\n",
    "\n",
    "4. Генераторы уникальных ID\n",
    "\n",
    "5. Конфигурация компонентов\n",
    "\n",
    "Кэширование – сохранение данных во временном хранилище (кэше), чтобы быстрее получать их при повторном запросе.\n",
    "\n",
    "Пул соединений – набор заранее созданных подключений к базе данных или другому ресурсу, которые можно переиспользовать, чтобы не открывать новое каждый раз.\n",
    "\n",
    "Middleware – промежуточный слой в приложении, который обрабатывает запросы и ответы (например, проверка авторизации или логирование).\n",
    "\n",
    "Middleware — это прослойка между двумя основными точками:\n",
    "1. Клиентский запрос → (Middleware) → Ваше приложение (роуты/логика)\n",
    "2. Ответ вашего приложения → (Middleware) → Клиент\n",
    "\n",
    "Генераторы уникальных ID – инструменты, которые создают неповторяющиеся идентификаторы\n",
    "\n",
    "Конфигурация компонентов – настройка параметров работы отдельных частей программы (например, указание порта сервера или пути к базе данных)."
   ]
  },
  {
   "cell_type": "markdown",
   "id": "0bf59941",
   "metadata": {},
   "source": [
    "===================================================================================================================================="
   ]
  },
  {
   "cell_type": "markdown",
   "id": "8de0714c",
   "metadata": {},
   "source": [
    "5. Декораторы\n",
    "\n",
    "Декоратор — это функция, которая \"оборачивает\" другую функцию, чтобы добавить ей новое поведение без изменения её кода.\n",
    "\n",
    "Главное правило декораторов 🎯            \n",
    "Декоратор — это функция, которая принимает функцию, добавляет к ней что-то и возвращает новую улучшенную функцию."
   ]
  },
  {
   "cell_type": "markdown",
   "id": "e2b56d10",
   "metadata": {},
   "source": [
    "Декоратор — это функция, которая:\n",
    "\n",
    "1. Принимает другую функцию (func).\n",
    "\n",
    "2. Создает новую функцию (wrapper), которая:\n",
    "\n",
    "3. Делает что-то до вызова func (например, print(\"Начало\")),\n",
    "\n",
    "4. Вызывает саму func (оригинальную функцию),\n",
    "\n",
    "5. Делает что-то после (например, print(\"Конец\")).\n",
    "\n",
    "6. Возвращает эту новую функцию (wrapper)."
   ]
  },
  {
   "cell_type": "code",
   "execution_count": null,
   "id": "f1f41bd3",
   "metadata": {},
   "outputs": [
    {
     "name": "stdout",
     "output_type": "stream",
     "text": [
      "Начало\n",
      "Привет!\n",
      "Конец\n"
     ]
    }
   ],
   "source": [
    "def decorator(func):  # 1. Принимает функцию\n",
    "      def wrapper():    # 2. Создаёт новую функцию\n",
    "            print(\"Начало\")  \n",
    "            func()        # 3. Вызывает исходную функцию\n",
    "            print(\"Конец\")\n",
    "      return wrapper    # 4. Возвращает обёрнутую версию\n",
    "\n",
    "@decorator          # ← Вешаем декоратор на функцию\n",
    "def hello():\n",
    "    print(\"Привет!\")\n",
    "\n",
    "# Строка @decorator перед hello делает следующее:\n",
    "# hello = decorator(hello)  //  Теперь hello — это wrapper!\n",
    "# Теперь hello — это не исходная функция, а wrapper из декоратора.\n",
    "\n",
    "hello()"
   ]
  },
  {
   "cell_type": "markdown",
   "id": "9c19980d",
   "metadata": {},
   "source": [
    "Декоратор — это:\n",
    "\n",
    "1. Функция, которая принимает функцию (func).\n",
    "\n",
    "2. Создает новую функцию (wrapper), добавляя код вокруг вызова func.\n",
    "\n",
    "3. Возвращает wrapper, заменяя им исходную функцию."
   ]
  },
  {
   "cell_type": "markdown",
   "id": "2efabe93",
   "metadata": {},
   "source": [
    "6. Асинхронность\n",
    "\n",
    "Асинхронность — это подход, при котором программа не ждёт завершения \"медленных\" операций (например, запросов к API, чтения файлов, работы с БД), а переключается на другие задачи. Это позволяет эффективно использовать ресурсы, особенно в веб-серверах, где много одновременных запросов."
   ]
  },
  {
   "cell_type": "markdown",
   "id": "22ea2156",
   "metadata": {},
   "source": [
    "Синхронный vs Асинхронный код\n",
    "\n",
    "Синхронный код (обычные функции)\n",
    "\n",
    "Работает последовательно:"
   ]
  },
  {
   "cell_type": "code",
   "execution_count": 36,
   "id": "1347f7ef",
   "metadata": {},
   "outputs": [
    {
     "name": "stdout",
     "output_type": "stream",
     "text": [
      "Начало\n",
      "(ждём 2 секунды)\n",
      "Данные: Данные\n",
      "Конец\n"
     ]
    }
   ],
   "source": [
    "import time\n",
    "\n",
    "def fetch_data():\n",
    "    time.sleep(2)  # \"Ждём\" 2 секунды (блокирующая операция)\n",
    "    return \"Данные\"\n",
    "\n",
    "print(\"Начало\\n(ждём 2 секунды)\")\n",
    "data = fetch_data()  # Программа \"зависает\" на 2 секунды\n",
    "print(\"Данные:\", data)\n",
    "print(\"Конец\")"
   ]
  },
  {
   "cell_type": "markdown",
   "id": "5921d2d1",
   "metadata": {},
   "source": [
    "Проблема: Если таких запросов 100, программа будет работать 200 секунд (потому что каждый ждёт завершения предыдущего)."
   ]
  },
  {
   "cell_type": "markdown",
   "id": "291eb7a0",
   "metadata": {},
   "source": [
    "Асинхронный код\n",
    "\n",
    "Программа не ждёт, а переключается на другие задачи:"
   ]
  },
  {
   "cell_type": "code",
   "execution_count": null,
   "id": "1afc91b8",
   "metadata": {},
   "outputs": [
    {
     "name": "stdout",
     "output_type": "stream",
     "text": [
      "Запуск\n",
      "Делаем что-то ещё...\n",
      "Начало запроса\n",
      "Данные получены\n",
      "Результат: Данные\n"
     ]
    }
   ],
   "source": [
    "import asyncio\n",
    "\n",
    "async def fetch_data(): # ← Корутина, т.е. становится специальным объектом, который можно приостанавливать и возобновлять.\n",
    "    await asyncio.sleep(2)  # Не блокирует поток, а \"отпускает\" его\n",
    "    print(\"Данные получены\")\n",
    "    return \"Данные\"\n",
    "\n",
    "async def main(): # ← Корутина\n",
    "    print(\"Запуск\")\n",
    "    task = asyncio.create_task(fetch_data())  # Запускаем фоново\n",
    "    print(\"Делаем что-то ещё...\")  # Выполнится сразу, не дожидаясь fetch_data\n",
    "    data = await task  # Ждём результат только здесь\n",
    "    print(\"Результат:\", data)\n",
    "\n",
    "# asyncio.run(main())\n",
    "await main()"
   ]
  },
  {
   "cell_type": "markdown",
   "id": "8682484d",
   "metadata": {},
   "source": [
    "await asyncio.sleep(2) — это неблокирующее ожидание.\n",
    "\n",
    "Event loop в это время выполняет другие задачи.\n",
    "\n",
    "Без await код бы блокировал поток (как time.sleep).\n",
    "\n",
    "Backend-польза: Сервер становится быстрым и масштабируемым."
   ]
  },
  {
   "cell_type": "markdown",
   "id": "1852f219",
   "metadata": {},
   "source": [
    "Итог\n",
    "\n",
    "Функции помогают структурировать код и избегать дублирования.\n",
    "\n",
    "В backend они используются для обработки запросов, работы с БД и бизнес-логики.\n",
    "\n",
    "Полезные фичи: аргументы по умолчанию, *args/**kwargs, замыкания, декораторы."
   ]
  },
  {
   "cell_type": "markdown",
   "id": "478e63f5",
   "metadata": {},
   "source": [
    "##### Классы:"
   ]
  },
  {
   "cell_type": "code",
   "execution_count": null,
   "id": "52de4e02",
   "metadata": {},
   "outputs": [],
   "source": []
  }
 ],
 "metadata": {
  "kernelspec": {
   "display_name": "Python 3",
   "language": "python",
   "name": "python3"
  },
  "language_info": {
   "codemirror_mode": {
    "name": "ipython",
    "version": 3
   },
   "file_extension": ".py",
   "mimetype": "text/x-python",
   "name": "python",
   "nbconvert_exporter": "python",
   "pygments_lexer": "ipython3",
   "version": "3.12.3"
  }
 },
 "nbformat": 4,
 "nbformat_minor": 5
}
